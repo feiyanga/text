{
 "cells": [
  {
   "cell_type": "markdown",
   "metadata": {},
   "source": [
    "# 1. 数据来源及背景\n",
    "数据来源: https://www.kaggle.com/jiangzuo/hr-comma-sep/version/1\n",
    "\n",
    "数据背景: 该数据集是指某公司员工的离职数据, 其包含14999个样本以及10个特征, 这10个特征分别为: 员工对公司满意度, 最新考核评估, 项目数, 平均每月工作时长, 工作年限, 是否出现工作事故, 是否离职, 过去5年是否升职, 岗位, 薪资水平. "
   ]
  },
  {
   "cell_type": "markdown",
   "metadata": {},
   "source": [
    "# 2. 明确分析目的\n",
    "将上述影响因素与现有的数据相结合来提出问题，进而明确我们的分析目的：\n",
    "\n",
    "1) 员工对公司满意度平均水平如何？员工的最新考核情况又是如何？员工所参加项目数是怎样？员工平均每月工作时长以及平均工作年限分别是多少？\n",
    "\n",
    "2) 当前离职率是多少？工作事故发生率？过去5年升职率？薪资水平又如何？共有多少种岗位？\n",
    "\n",
    "3) 是否离职和其他9个特征的关系如何？\n",
    "\n",
    "4) 根据现有数据, 如何对某个员工是否离职进行预测？\n",
    "\n",
    "5) 针对当前的员工离职情况，企业该如何对待呢？"
   ]
  },
  {
   "cell_type": "markdown",
   "metadata": {},
   "source": [
    "# 3. 数据探索分析"
   ]
  },
  {
   "cell_type": "markdown",
   "metadata": {},
   "source": [
    "### 1) 查看前2行和后2行数据"
   ]
  },
  {
   "cell_type": "code",
   "execution_count": 1,
   "metadata": {},
   "outputs": [
    {
     "data": {
      "text/html": [
       "<div>\n",
       "<style scoped>\n",
       "    .dataframe tbody tr th:only-of-type {\n",
       "        vertical-align: middle;\n",
       "    }\n",
       "\n",
       "    .dataframe tbody tr th {\n",
       "        vertical-align: top;\n",
       "    }\n",
       "\n",
       "    .dataframe thead th {\n",
       "        text-align: right;\n",
       "    }\n",
       "</style>\n",
       "<table border=\"1\" class=\"dataframe\">\n",
       "  <thead>\n",
       "    <tr style=\"text-align: right;\">\n",
       "      <th></th>\n",
       "      <th>satisfaction_level</th>\n",
       "      <th>last_evaluation</th>\n",
       "      <th>number_project</th>\n",
       "      <th>average_montly_hours</th>\n",
       "      <th>time_spend_company</th>\n",
       "      <th>Work_accident</th>\n",
       "      <th>left</th>\n",
       "      <th>promotion_last_5years</th>\n",
       "      <th>sales</th>\n",
       "      <th>salary</th>\n",
       "    </tr>\n",
       "  </thead>\n",
       "  <tbody>\n",
       "    <tr>\n",
       "      <th>0</th>\n",
       "      <td>0.38</td>\n",
       "      <td>0.53</td>\n",
       "      <td>2</td>\n",
       "      <td>157</td>\n",
       "      <td>3</td>\n",
       "      <td>0</td>\n",
       "      <td>1</td>\n",
       "      <td>0</td>\n",
       "      <td>sales</td>\n",
       "      <td>low</td>\n",
       "    </tr>\n",
       "    <tr>\n",
       "      <th>1</th>\n",
       "      <td>0.80</td>\n",
       "      <td>0.86</td>\n",
       "      <td>5</td>\n",
       "      <td>262</td>\n",
       "      <td>6</td>\n",
       "      <td>0</td>\n",
       "      <td>1</td>\n",
       "      <td>0</td>\n",
       "      <td>sales</td>\n",
       "      <td>medium</td>\n",
       "    </tr>\n",
       "    <tr>\n",
       "      <th>...</th>\n",
       "      <td>...</td>\n",
       "      <td>...</td>\n",
       "      <td>...</td>\n",
       "      <td>...</td>\n",
       "      <td>...</td>\n",
       "      <td>...</td>\n",
       "      <td>...</td>\n",
       "      <td>...</td>\n",
       "      <td>...</td>\n",
       "      <td>...</td>\n",
       "    </tr>\n",
       "    <tr>\n",
       "      <th>14997</th>\n",
       "      <td>0.11</td>\n",
       "      <td>0.96</td>\n",
       "      <td>6</td>\n",
       "      <td>280</td>\n",
       "      <td>4</td>\n",
       "      <td>0</td>\n",
       "      <td>1</td>\n",
       "      <td>0</td>\n",
       "      <td>support</td>\n",
       "      <td>low</td>\n",
       "    </tr>\n",
       "    <tr>\n",
       "      <th>14998</th>\n",
       "      <td>0.37</td>\n",
       "      <td>0.52</td>\n",
       "      <td>2</td>\n",
       "      <td>158</td>\n",
       "      <td>3</td>\n",
       "      <td>0</td>\n",
       "      <td>1</td>\n",
       "      <td>0</td>\n",
       "      <td>support</td>\n",
       "      <td>low</td>\n",
       "    </tr>\n",
       "  </tbody>\n",
       "</table>\n",
       "<p>14999 rows × 10 columns</p>\n",
       "</div>"
      ],
      "text/plain": [
       "       satisfaction_level  last_evaluation  number_project  \\\n",
       "0                    0.38             0.53               2   \n",
       "1                    0.80             0.86               5   \n",
       "...                   ...              ...             ...   \n",
       "14997                0.11             0.96               6   \n",
       "14998                0.37             0.52               2   \n",
       "\n",
       "       average_montly_hours  time_spend_company  Work_accident  left  \\\n",
       "0                       157                   3              0     1   \n",
       "1                       262                   6              0     1   \n",
       "...                     ...                 ...            ...   ...   \n",
       "14997                   280                   4              0     1   \n",
       "14998                   158                   3              0     1   \n",
       "\n",
       "       promotion_last_5years    sales  salary  \n",
       "0                          0    sales     low  \n",
       "1                          0    sales  medium  \n",
       "...                      ...      ...     ...  \n",
       "14997                      0  support     low  \n",
       "14998                      0  support     low  \n",
       "\n",
       "[14999 rows x 10 columns]"
      ]
     },
     "execution_count": 1,
     "metadata": {},
     "output_type": "execute_result"
    }
   ],
   "source": [
    "import pandas as pd\n",
    "df=pd.read_csv(r\"HR_comma_sep.csv\")\n",
    "pd.set_option(\"display.max_row\",4)\n",
    "df"
   ]
  },
  {
   "cell_type": "markdown",
   "metadata": {},
   "source": [
    "### 2) 查看数据类型等信息"
   ]
  },
  {
   "cell_type": "code",
   "execution_count": 2,
   "metadata": {},
   "outputs": [
    {
     "name": "stdout",
     "output_type": "stream",
     "text": [
      "<class 'pandas.core.frame.DataFrame'>\n",
      "RangeIndex: 14999 entries, 0 to 14998\n",
      "Data columns (total 10 columns):\n",
      "satisfaction_level       14999 non-null float64\n",
      "last_evaluation          14999 non-null float64\n",
      "number_project           14999 non-null int64\n",
      "average_montly_hours     14999 non-null int64\n",
      "time_spend_company       14999 non-null int64\n",
      "Work_accident            14999 non-null int64\n",
      "left                     14999 non-null int64\n",
      "promotion_last_5years    14999 non-null int64\n",
      "sales                    14999 non-null object\n",
      "salary                   14999 non-null object\n",
      "dtypes: float64(2), int64(6), object(2)\n",
      "memory usage: 1.1+ MB\n"
     ]
    }
   ],
   "source": [
    "df.info()"
   ]
  },
  {
   "cell_type": "markdown",
   "metadata": {},
   "source": [
    "### 3). 描述性统计"
   ]
  },
  {
   "cell_type": "code",
   "execution_count": 3,
   "metadata": {},
   "outputs": [
    {
     "data": {
      "text/html": [
       "<div>\n",
       "<style scoped>\n",
       "    .dataframe tbody tr th:only-of-type {\n",
       "        vertical-align: middle;\n",
       "    }\n",
       "\n",
       "    .dataframe tbody tr th {\n",
       "        vertical-align: top;\n",
       "    }\n",
       "\n",
       "    .dataframe thead th {\n",
       "        text-align: right;\n",
       "    }\n",
       "</style>\n",
       "<table border=\"1\" class=\"dataframe\">\n",
       "  <thead>\n",
       "    <tr style=\"text-align: right;\">\n",
       "      <th></th>\n",
       "      <th>satisfaction_level</th>\n",
       "      <th>last_evaluation</th>\n",
       "      <th>number_project</th>\n",
       "      <th>average_montly_hours</th>\n",
       "      <th>time_spend_company</th>\n",
       "      <th>Work_accident</th>\n",
       "      <th>left</th>\n",
       "      <th>promotion_last_5years</th>\n",
       "    </tr>\n",
       "  </thead>\n",
       "  <tbody>\n",
       "    <tr>\n",
       "      <th>count</th>\n",
       "      <td>14999.000000</td>\n",
       "      <td>14999.000000</td>\n",
       "      <td>14999.000000</td>\n",
       "      <td>14999.000000</td>\n",
       "      <td>14999.000000</td>\n",
       "      <td>14999.00000</td>\n",
       "      <td>14999.000000</td>\n",
       "      <td>14999.000000</td>\n",
       "    </tr>\n",
       "    <tr>\n",
       "      <th>mean</th>\n",
       "      <td>0.612834</td>\n",
       "      <td>0.716102</td>\n",
       "      <td>3.803054</td>\n",
       "      <td>201.050337</td>\n",
       "      <td>3.498233</td>\n",
       "      <td>0.14461</td>\n",
       "      <td>0.238083</td>\n",
       "      <td>0.021268</td>\n",
       "    </tr>\n",
       "    <tr>\n",
       "      <th>...</th>\n",
       "      <td>...</td>\n",
       "      <td>...</td>\n",
       "      <td>...</td>\n",
       "      <td>...</td>\n",
       "      <td>...</td>\n",
       "      <td>...</td>\n",
       "      <td>...</td>\n",
       "      <td>...</td>\n",
       "    </tr>\n",
       "    <tr>\n",
       "      <th>75%</th>\n",
       "      <td>0.820000</td>\n",
       "      <td>0.870000</td>\n",
       "      <td>5.000000</td>\n",
       "      <td>245.000000</td>\n",
       "      <td>4.000000</td>\n",
       "      <td>0.00000</td>\n",
       "      <td>0.000000</td>\n",
       "      <td>0.000000</td>\n",
       "    </tr>\n",
       "    <tr>\n",
       "      <th>max</th>\n",
       "      <td>1.000000</td>\n",
       "      <td>1.000000</td>\n",
       "      <td>7.000000</td>\n",
       "      <td>310.000000</td>\n",
       "      <td>10.000000</td>\n",
       "      <td>1.00000</td>\n",
       "      <td>1.000000</td>\n",
       "      <td>1.000000</td>\n",
       "    </tr>\n",
       "  </tbody>\n",
       "</table>\n",
       "<p>8 rows × 8 columns</p>\n",
       "</div>"
      ],
      "text/plain": [
       "       satisfaction_level  last_evaluation  number_project  \\\n",
       "count        14999.000000     14999.000000    14999.000000   \n",
       "mean             0.612834         0.716102        3.803054   \n",
       "...                   ...              ...             ...   \n",
       "75%              0.820000         0.870000        5.000000   \n",
       "max              1.000000         1.000000        7.000000   \n",
       "\n",
       "       average_montly_hours  time_spend_company  Work_accident          left  \\\n",
       "count          14999.000000        14999.000000    14999.00000  14999.000000   \n",
       "mean             201.050337            3.498233        0.14461      0.238083   \n",
       "...                     ...                 ...            ...           ...   \n",
       "75%              245.000000            4.000000        0.00000      0.000000   \n",
       "max              310.000000           10.000000        1.00000      1.000000   \n",
       "\n",
       "       promotion_last_5years  \n",
       "count           14999.000000  \n",
       "mean                0.021268  \n",
       "...                      ...  \n",
       "75%                 0.000000  \n",
       "max                 1.000000  \n",
       "\n",
       "[8 rows x 8 columns]"
      ]
     },
     "execution_count": 3,
     "metadata": {},
     "output_type": "execute_result"
    }
   ],
   "source": [
    "df.describe()"
   ]
  },
  {
   "cell_type": "code",
   "execution_count": 4,
   "metadata": {},
   "outputs": [
    {
     "data": {
      "text/html": [
       "<div>\n",
       "<style scoped>\n",
       "    .dataframe tbody tr th:only-of-type {\n",
       "        vertical-align: middle;\n",
       "    }\n",
       "\n",
       "    .dataframe tbody tr th {\n",
       "        vertical-align: top;\n",
       "    }\n",
       "\n",
       "    .dataframe thead th {\n",
       "        text-align: right;\n",
       "    }\n",
       "</style>\n",
       "<table border=\"1\" class=\"dataframe\">\n",
       "  <thead>\n",
       "    <tr style=\"text-align: right;\">\n",
       "      <th></th>\n",
       "      <th>count</th>\n",
       "      <th>unique</th>\n",
       "      <th>top</th>\n",
       "      <th>freq</th>\n",
       "    </tr>\n",
       "  </thead>\n",
       "  <tbody>\n",
       "    <tr>\n",
       "      <th>sales</th>\n",
       "      <td>14999</td>\n",
       "      <td>10</td>\n",
       "      <td>sales</td>\n",
       "      <td>4140</td>\n",
       "    </tr>\n",
       "    <tr>\n",
       "      <th>salary</th>\n",
       "      <td>14999</td>\n",
       "      <td>3</td>\n",
       "      <td>low</td>\n",
       "      <td>7316</td>\n",
       "    </tr>\n",
       "  </tbody>\n",
       "</table>\n",
       "</div>"
      ],
      "text/plain": [
       "        count unique    top  freq\n",
       "sales   14999     10  sales  4140\n",
       "salary  14999      3    low  7316"
      ]
     },
     "execution_count": 4,
     "metadata": {},
     "output_type": "execute_result"
    }
   ],
   "source": [
    "df.describe(include=\"O\").T"
   ]
  },
  {
   "cell_type": "markdown",
   "metadata": {},
   "source": [
    "# 4. 数据预处理"
   ]
  },
  {
   "cell_type": "markdown",
   "metadata": {},
   "source": [
    "### 1. 异常值"
   ]
  },
  {
   "cell_type": "code",
   "execution_count": 5,
   "metadata": {},
   "outputs": [
    {
     "data": {
      "text/plain": [
       "<matplotlib.axes._subplots.AxesSubplot at 0x214b13847f0>"
      ]
     },
     "execution_count": 5,
     "metadata": {},
     "output_type": "execute_result"
    }
   ],
   "source": [
    "import seaborn as sns\n",
    "import matplotlib.pyplot as plt\n",
    "fig,ax=plt.subplots(1,5,figsize=(12,2))\n",
    "sns.boxplot(x=df.columns[0],data=df,ax=ax[0])\n",
    "sns.boxplot(x=df.columns[1],data=df,ax=ax[1])\n",
    "sns.boxplot(x=df.columns[2],data=df,ax=ax[2])\n",
    "sns.boxplot(x=df.columns[3],data=df,ax=ax[3])\n",
    "sns.boxplot(x=df.columns[4],data=df,ax=ax[4])"
   ]
  },
  {
   "cell_type": "markdown",
   "metadata": {},
   "source": [
    "# 5. 可视化分析"
   ]
  },
  {
   "cell_type": "markdown",
   "metadata": {},
   "source": [
    "### 1. 人力资源总体情况"
   ]
  },
  {
   "cell_type": "code",
   "execution_count": 39,
   "metadata": {},
   "outputs": [],
   "source": [
    "from pyecharts import Pie"
   ]
  },
  {
   "cell_type": "code",
   "execution_count": 40,
   "metadata": {},
   "outputs": [],
   "source": [
    "from pyecharts import Pie\n",
    "attr = [\"离职\", \"在职\"]\n",
    "v1 =[df.left.value_counts()[1], df.left.value_counts()[0]]\n",
    "pie = Pie(\"该公司人力资源总体情况\", title_pos='center')\n",
    "pie.add(\n",
    "    \"图1\",\n",
    "    attr,                       \n",
    "    v1,                          \n",
    "    radius=[35, 65],\n",
    "    label_text_color=None,\n",
    "    is_label_show=True,\n",
    "    legend_orient=\"vertical\",\n",
    "    legend_pos=\"left\"\n",
    ")\n",
    "pie.render()"
   ]
  },
  {
   "cell_type": "markdown",
   "metadata": {},
   "source": [
    "### 2. 对公司满意度与是否离职的关系"
   ]
  },
  {
   "cell_type": "code",
   "execution_count": null,
   "metadata": {},
   "outputs": [],
   "source": [
    "from pyecharts import Boxplot\n",
    "#字段重命名\n",
    "df.columns=['satisfaction', 'evaluation', 'project', 'hours', 'years_work','work_accident', 'left', 'promotion', 'department', 'salary']\n",
    "#绘制箱线图\n",
    "boxplot = Boxplot(\"对公司满意度与是否离职关系图\", title_pos='center')\n",
    "x_axis = ['在职', '离职']\n",
    "y_axis = [df[df.left == 0].satisfaction.values, df[df.left == 1].satisfaction.values]\n",
    "boxplot.add(\"\", x_axis, boxplot.prepare_data(y_axis))\n",
    "boxplot.render()"
   ]
  },
  {
   "cell_type": "markdown",
   "metadata": {},
   "source": [
    "### 3. 最新考核评估与是否离职的关系"
   ]
  },
  {
   "cell_type": "code",
   "execution_count": null,
   "metadata": {},
   "outputs": [],
   "source": [
    "boxplot = Boxplot(\"最新评估与是否离职关系图\", title_pos='center')\n",
    "x_axis = ['在职', '离职']\n",
    "y_axis = [df[df.left == 0].evaluation.values, df[df.left == 1].evaluation.values]\n",
    "boxplot.add(\"\", x_axis, boxplot.prepare_data(y_axis))\n",
    "boxplot.render()"
   ]
  },
  {
   "cell_type": "markdown",
   "metadata": {},
   "source": [
    " ### 4. 所参加项目与是否离职的关系"
   ]
  },
  {
   "cell_type": "code",
   "execution_count": null,
   "metadata": {},
   "outputs": [],
   "source": [
    "from pyecharts import Bar, Pie, Grid\n",
    "#按照项目数分组分别求离职人数和所有人数\n",
    "project_left_1 = df[df.left == 1].groupby('project')['left'].count()\n",
    "project_all = df.groupby('project')['left'].count()\n",
    "#分别计算离职人数和在职人数所占比例\n",
    "project_left1_rate = project_left_1 / project_all\n",
    "project_left0_rate = 1 - project_left1_rate\n",
    "attr = project_left1_rate.index\n",
    "bar = Bar(\"所参加项目数与是否离职的关系图\", title_pos='10%')\n",
    "bar.add(\"离职\", attr, project_left1_rate, is_stack=True)\n",
    "bar.add(\"在职\", attr, project_left0_rate, is_stack=True, legend_pos=\"left\", legend_orient=\"vertical\")\n",
    "#绘制圆环图\n",
    "pie = Pie(\"各项目数所占百分比\", title_pos='center')\n",
    "pie.add('', project_all.index, project_all, radius=[35, 60], label_text_color=None, \n",
    "        is_label_show=True, legend_orient=\"vertical\", legend_pos=\"67%\")\n",
    "grid = Grid(width=1200)\n",
    "grid.add(bar, grid_right=\"67%\")\n",
    "grid.add(pie)\n",
    "grid.render()"
   ]
  },
  {
   "cell_type": "markdown",
   "metadata": {},
   "source": [
    "### 5. 平均每月工作时长和是否离职的关系"
   ]
  },
  {
   "cell_type": "code",
   "execution_count": null,
   "metadata": {},
   "outputs": [],
   "source": [
    "boxplot = Boxplot(\"平均每月工作时长与是否离职关系图\", title_pos='center')\n",
    "x_axis = ['在职', '离职']\n",
    "y_axis = [df[df.left == 0].hours.values, df[df.left == 1].hours.values]\n",
    "boxplot.add(\"\", x_axis, boxplot.prepare_data(y_axis))\n",
    "boxplot.render()"
   ]
  },
  {
   "cell_type": "markdown",
   "metadata": {},
   "source": [
    "### 6. 工作年限和是否离职的关系"
   ]
  },
  {
   "cell_type": "code",
   "execution_count": null,
   "metadata": {},
   "outputs": [],
   "source": [
    "from pyecharts import Bar, Pie, Grid\n",
    "#按照工作年限分别求离职人数和所有人数\n",
    "years_left_0 = df[df.left == 0].groupby('years_work')['left'].count()\n",
    "years_all = df.groupby('years_work')['left'].count()\n",
    "#分别计算离职人数和在职人数所占比例\n",
    "years_left0_rate = years_left_0 / years_all\n",
    "years_left1_rate = 1 - years_left0_rate\n",
    "attr = years_all.index\n",
    "bar = Bar(\"工作年限与是否离职的关系图\", title_pos='10%')\n",
    "bar.add(\"离职\", attr, years_left1_rate, is_stack=True)\n",
    "bar.add(\"在职\", attr, years_left0_rate, is_stack=True, legend_pos=\"left\" , legend_orient=\"vertical\")\n",
    "#绘制圆环图\n",
    "pie = Pie(\"各工作年限所占百分比\", title_pos='center')\n",
    "pie.add('', years_all.index, years_all, radius=[35, 60], label_text_color=None, \n",
    "        is_label_show=True, legend_orient=\"vertical\", legend_pos=\"67%\")\n",
    "grid = Grid(width=1200)\n",
    "grid.add(bar, grid_right=\"67%\")\n",
    "grid.add(pie)\n",
    "grid.render()"
   ]
  },
  {
   "cell_type": "markdown",
   "metadata": {},
   "source": [
    "### 7. 是否发生工作事故与是否离职的关系"
   ]
  },
  {
   "cell_type": "code",
   "execution_count": null,
   "metadata": {},
   "outputs": [],
   "source": [
    "from pyecharts import Bar\n",
    "accident_left = pd.crosstab(df.work_accident, df.left)\n",
    "attr = accident_left.index\n",
    "bar = Bar(\"是否发生工作事故与是否离职的关系图\", title_pos='center')\n",
    "bar.add(\"离职\", attr, accident_left[1], is_stack=True)\n",
    "bar.add(\"在职\", attr, accident_left[0], is_stack=True, legend_pos=\"left\" , legend_orient=\"vertical\", is_label_show=True)\n",
    "bar.render()"
   ]
  },
  {
   "cell_type": "markdown",
   "metadata": {},
   "source": [
    "### 8. 5年内是否升职与是否离职的关系"
   ]
  },
  {
   "cell_type": "code",
   "execution_count": null,
   "metadata": {},
   "outputs": [],
   "source": [
    "promotion_left = pd.crosstab(df.promotion, df.left)\n",
    "attr = promotion_left.index\n",
    "bar = Bar(\"5年内是否升职与是否离职的关系图\", title_pos='center')\n",
    "bar.add(\"离职\", attr, promotion_left[1], is_stack=True)\n",
    "bar.add(\"在职\", attr, promotion_left[0], is_stack=True, legend_pos=\"left\" , legend_orient=\"vertical\", is_label_show=True)\n",
    "bar.render()"
   ]
  },
  {
   "cell_type": "markdown",
   "metadata": {},
   "source": [
    "### 9. 岗位与是否离职的关系"
   ]
  },
  {
   "cell_type": "code",
   "execution_count": null,
   "metadata": {},
   "outputs": [],
   "source": [
    "#分别计算各岗位离职人员比例和各岗位占总体百分比\n",
    "department_left_0 = df[df.left == 0].groupby('department')['left'].count()\n",
    "department_all = df.groupby('department')['left'].count()\n",
    "department_left0_rate = department_left_0 / department_all\n",
    "department_left1_rate = 1 - department_left0_rate\n",
    "attr = department_all.index\n",
    "bar = Bar(\"岗位与离职比例的关系图\", title_top='40%')\n",
    "bar.add(\"离职\", attr, department_left1_rate, is_stack=True)\n",
    "bar.add(\"在职\", attr, department_left0_rate, is_stack=True, is_datazoom_show=True,\n",
    "        xaxis_interval=0, xaxis_rotate=30,  legend_top=\"45%\",  legend_pos=\"80%\")\n",
    "#绘制圆环图\n",
    "pie = Pie(\"各个岗位所占百分比\", title_pos='left')\n",
    "pie.add('', department_all.index, department_all,center=[50, 23], radius=[18, 35], label_text_color=None, \n",
    "        is_label_show=True, legend_orient=\"vertical\", legend_pos=\"80%\", legend_top=\"4%\")\n",
    "grid = Grid(width=1200, height=700)\n",
    "grid.add(bar, grid_top=\"50%\", grid_bottom=\"25%\")\n",
    "grid.add(pie)\n",
    "grid.render()"
   ]
  },
  {
   "cell_type": "markdown",
   "metadata": {},
   "source": [
    "### 10. 薪资水平和是否离职的关系"
   ]
  },
  {
   "cell_type": "code",
   "execution_count": null,
   "metadata": {},
   "outputs": [],
   "source": [
    "from pyecharts import Bar\n",
    "#按照薪资水平分别求离职人数和所有人数\n",
    "salary_left = pd.crosstab(df.salary, df.left).sort_values(0, ascending = False)\n",
    "attr = salary_left.index\n",
    "bar = Bar(\"薪资水平和是否离职的关系图\", title_pos='center')\n",
    "bar.add(\"离职\", attr, salary_left[1], is_stack=True)\n",
    "bar.add(\"在职\", attr, salary_left[0], is_stack=True, legend_pos=\"left\" , legend_orient=\"vertical\", is_label_show=True)\n",
    "bar.render()"
   ]
  },
  {
   "cell_type": "markdown",
   "metadata": {},
   "source": [
    "# 6. 特征工程"
   ]
  },
  {
   "cell_type": "markdown",
   "metadata": {},
   "source": [
    "### 1. 离散型数据处理"
   ]
  },
  {
   "cell_type": "markdown",
   "metadata": {},
   "source": [
    "#### 1) 定序"
   ]
  },
  {
   "cell_type": "code",
   "execution_count": 44,
   "metadata": {},
   "outputs": [
    {
     "data": {
      "text/plain": [
       "array([0, 1, 2], dtype=int64)"
      ]
     },
     "execution_count": 44,
     "metadata": {},
     "output_type": "execute_result"
    }
   ],
   "source": [
    "df['salary']=df['salary'].map({\"low\": 0, \"medium\": 1, \"high\": 2})\n",
    "df.salary.unique()"
   ]
  },
  {
   "cell_type": "markdown",
   "metadata": {},
   "source": [
    "#### 2) 定类"
   ]
  },
  {
   "cell_type": "code",
   "execution_count": 48,
   "metadata": {},
   "outputs": [
    {
     "data": {
      "text/html": [
       "<div>\n",
       "<style scoped>\n",
       "    .dataframe tbody tr th:only-of-type {\n",
       "        vertical-align: middle;\n",
       "    }\n",
       "\n",
       "    .dataframe tbody tr th {\n",
       "        vertical-align: top;\n",
       "    }\n",
       "\n",
       "    .dataframe thead th {\n",
       "        text-align: right;\n",
       "    }\n",
       "</style>\n",
       "<table border=\"1\" class=\"dataframe\">\n",
       "  <thead>\n",
       "    <tr style=\"text-align: right;\">\n",
       "      <th></th>\n",
       "      <th>satisfaction_level</th>\n",
       "      <th>last_evaluation</th>\n",
       "      <th>number_project</th>\n",
       "      <th>average_montly_hours</th>\n",
       "      <th>time_spend_company</th>\n",
       "      <th>Work_accident</th>\n",
       "      <th>left</th>\n",
       "      <th>promotion_last_5years</th>\n",
       "      <th>salary</th>\n",
       "      <th>dep_IT</th>\n",
       "      <th>dep_RandD</th>\n",
       "      <th>dep_accounting</th>\n",
       "      <th>dep_hr</th>\n",
       "      <th>dep_management</th>\n",
       "      <th>dep_marketing</th>\n",
       "      <th>dep_product_mng</th>\n",
       "      <th>dep_sales</th>\n",
       "      <th>dep_support</th>\n",
       "      <th>dep_technical</th>\n",
       "    </tr>\n",
       "  </thead>\n",
       "  <tbody>\n",
       "    <tr>\n",
       "      <th>0</th>\n",
       "      <td>0.38</td>\n",
       "      <td>0.53</td>\n",
       "      <td>2</td>\n",
       "      <td>157</td>\n",
       "      <td>3</td>\n",
       "      <td>0</td>\n",
       "      <td>1</td>\n",
       "      <td>0</td>\n",
       "      <td>0</td>\n",
       "      <td>0</td>\n",
       "      <td>0</td>\n",
       "      <td>0</td>\n",
       "      <td>0</td>\n",
       "      <td>0</td>\n",
       "      <td>0</td>\n",
       "      <td>0</td>\n",
       "      <td>1</td>\n",
       "      <td>0</td>\n",
       "      <td>0</td>\n",
       "    </tr>\n",
       "    <tr>\n",
       "      <th>1</th>\n",
       "      <td>0.80</td>\n",
       "      <td>0.86</td>\n",
       "      <td>5</td>\n",
       "      <td>262</td>\n",
       "      <td>6</td>\n",
       "      <td>0</td>\n",
       "      <td>1</td>\n",
       "      <td>0</td>\n",
       "      <td>1</td>\n",
       "      <td>0</td>\n",
       "      <td>0</td>\n",
       "      <td>0</td>\n",
       "      <td>0</td>\n",
       "      <td>0</td>\n",
       "      <td>0</td>\n",
       "      <td>0</td>\n",
       "      <td>1</td>\n",
       "      <td>0</td>\n",
       "      <td>0</td>\n",
       "    </tr>\n",
       "    <tr>\n",
       "      <th>...</th>\n",
       "      <td>...</td>\n",
       "      <td>...</td>\n",
       "      <td>...</td>\n",
       "      <td>...</td>\n",
       "      <td>...</td>\n",
       "      <td>...</td>\n",
       "      <td>...</td>\n",
       "      <td>...</td>\n",
       "      <td>...</td>\n",
       "      <td>...</td>\n",
       "      <td>...</td>\n",
       "      <td>...</td>\n",
       "      <td>...</td>\n",
       "      <td>...</td>\n",
       "      <td>...</td>\n",
       "      <td>...</td>\n",
       "      <td>...</td>\n",
       "      <td>...</td>\n",
       "      <td>...</td>\n",
       "    </tr>\n",
       "    <tr>\n",
       "      <th>3</th>\n",
       "      <td>0.72</td>\n",
       "      <td>0.87</td>\n",
       "      <td>5</td>\n",
       "      <td>223</td>\n",
       "      <td>5</td>\n",
       "      <td>0</td>\n",
       "      <td>1</td>\n",
       "      <td>0</td>\n",
       "      <td>0</td>\n",
       "      <td>0</td>\n",
       "      <td>0</td>\n",
       "      <td>0</td>\n",
       "      <td>0</td>\n",
       "      <td>0</td>\n",
       "      <td>0</td>\n",
       "      <td>0</td>\n",
       "      <td>1</td>\n",
       "      <td>0</td>\n",
       "      <td>0</td>\n",
       "    </tr>\n",
       "    <tr>\n",
       "      <th>4</th>\n",
       "      <td>0.37</td>\n",
       "      <td>0.52</td>\n",
       "      <td>2</td>\n",
       "      <td>159</td>\n",
       "      <td>3</td>\n",
       "      <td>0</td>\n",
       "      <td>1</td>\n",
       "      <td>0</td>\n",
       "      <td>0</td>\n",
       "      <td>0</td>\n",
       "      <td>0</td>\n",
       "      <td>0</td>\n",
       "      <td>0</td>\n",
       "      <td>0</td>\n",
       "      <td>0</td>\n",
       "      <td>0</td>\n",
       "      <td>1</td>\n",
       "      <td>0</td>\n",
       "      <td>0</td>\n",
       "    </tr>\n",
       "  </tbody>\n",
       "</table>\n",
       "<p>5 rows × 19 columns</p>\n",
       "</div>"
      ],
      "text/plain": [
       "    satisfaction_level  last_evaluation  number_project  average_montly_hours  \\\n",
       "0                 0.38             0.53               2                   157   \n",
       "1                 0.80             0.86               5                   262   \n",
       "..                 ...              ...             ...                   ...   \n",
       "3                 0.72             0.87               5                   223   \n",
       "4                 0.37             0.52               2                   159   \n",
       "\n",
       "    time_spend_company  Work_accident  left  promotion_last_5years  salary  \\\n",
       "0                    3              0     1                      0       0   \n",
       "1                    6              0     1                      0       1   \n",
       "..                 ...            ...   ...                    ...     ...   \n",
       "3                    5              0     1                      0       0   \n",
       "4                    3              0     1                      0       0   \n",
       "\n",
       "    dep_IT  dep_RandD  dep_accounting  dep_hr  dep_management  dep_marketing  \\\n",
       "0        0          0               0       0               0              0   \n",
       "1        0          0               0       0               0              0   \n",
       "..     ...        ...             ...     ...             ...            ...   \n",
       "3        0          0               0       0               0              0   \n",
       "4        0          0               0       0               0              0   \n",
       "\n",
       "    dep_product_mng  dep_sales  dep_support  dep_technical  \n",
       "0                 0          1            0              0  \n",
       "1                 0          1            0              0  \n",
       "..              ...        ...          ...            ...  \n",
       "3                 0          1            0              0  \n",
       "4                 0          1            0              0  \n",
       "\n",
       "[5 rows x 19 columns]"
      ]
     },
     "execution_count": 48,
     "metadata": {},
     "output_type": "execute_result"
    }
   ],
   "source": [
    "#岗位是定类型变量, 对其进行one-hot编码, 这里直接利用pandas的get_dummies方法\n",
    "df_one_hot = pd.get_dummies(df, prefix=\"dep\")\n",
    "df_one_hot.head()"
   ]
  },
  {
   "cell_type": "markdown",
   "metadata": {},
   "source": [
    "### 2. 连续型数据处理"
   ]
  },
  {
   "cell_type": "code",
   "execution_count": null,
   "metadata": {},
   "outputs": [],
   "source": [
    "#采用max-min归一化方法\n",
    "hours = df_one_hot['hours']\n",
    "df_one_hot['hours'] = df_one_hot.hours.apply(lambda x: (x-hours.min()) / (hours.max()-hours.min()))"
   ]
  },
  {
   "cell_type": "markdown",
   "metadata": {},
   "source": [
    "### 3. 相关系数"
   ]
  },
  {
   "cell_type": "code",
   "execution_count": null,
   "metadata": {},
   "outputs": [],
   "source": [
    "#计算相关系数\n",
    "correlation = df_one_hot.corr(method = \"spearman\")\n",
    "plt.figure(figsize=(18, 10))\n",
    "#绘制热力图\n",
    "sns.heatmap(correlation, linewidths=0.2, vmax=1, vmin=-1, linecolor='w',fmt='.2f',\n",
    "            annot=True,annot_kws={'size':10},square=True)"
   ]
  },
  {
   "cell_type": "markdown",
   "metadata": {},
   "source": [
    "# 7. 逻辑回归模型"
   ]
  },
  {
   "cell_type": "markdown",
   "metadata": {},
   "source": [
    "### 1. 划分数据集"
   ]
  },
  {
   "cell_type": "code",
   "execution_count": null,
   "metadata": {},
   "outputs": [],
   "source": [
    "from sklearn.model_selection import train_test_split\n",
    "#划分训练集和测试集\n",
    "X = df_one_hot.drop(['left'], axis=1)\n",
    "y = df_one_hot['left']\n",
    "X_train, X_test, y_train, y_test = train_test_split(X, y, test_size=0.2, random_state=1)"
   ]
  },
  {
   "cell_type": "markdown",
   "metadata": {},
   "source": [
    "### 2. 训练模型"
   ]
  },
  {
   "cell_type": "code",
   "execution_count": null,
   "metadata": {},
   "outputs": [],
   "source": [
    "from sklearn.linear_model import LogisticRegression\n",
    "LR = LogisticRegression()\n",
    "print(LR.fit(X_train, y_train))\n",
    "print(\"训练集准确率: \", LR.score(X_train, y_train))\n",
    "print(\"测试集准确率: \", LR.score(X_test, y_test))"
   ]
  },
  {
   "cell_type": "code",
   "execution_count": null,
   "metadata": {},
   "outputs": [],
   "source": [
    "#指定随机梯度下降优化算法\n",
    "LR = LogisticRegression(solver='saga')\n",
    "print(LR.fit(X_train, y_train))\n",
    "print(\"训练集准确率: \", LR.score(X_train, y_train))\n",
    "print(\"测试集准确率: \", LR.score(X_test, y_test))"
   ]
  },
  {
   "cell_type": "markdown",
   "metadata": {},
   "source": [
    "### 3. 调参"
   ]
  },
  {
   "cell_type": "code",
   "execution_count": null,
   "metadata": {},
   "outputs": [],
   "source": [
    "#用准确率进行10折交叉验证选择合适的参数C\n",
    "from sklearn.linear_model import LogisticRegressionCV\n",
    "Cs = 10**np.linspace(-10, 10, 400)\n",
    "lr_cv = LogisticRegressionCV(Cs=Cs, cv=10, penalty='l2', solver='saga',  max_iter=10000, scoring='accuracy')\n",
    "lr_cv.fit(X_train, y_train)\n",
    "lr_cv.C_"
   ]
  },
  {
   "cell_type": "code",
   "execution_count": null,
   "metadata": {},
   "outputs": [],
   "source": [
    "LR = LogisticRegression(solver='saga', penalty='l2', C=25.52908068)\n",
    "print(\"训练集准确率: \", LR.score(X_train, y_train))\n",
    "print(\"测试集准确率: \", LR.score(X_test, y_test))"
   ]
  },
  {
   "cell_type": "markdown",
   "metadata": {},
   "source": [
    "### 4. 混淆矩阵"
   ]
  },
  {
   "cell_type": "code",
   "execution_count": null,
   "metadata": {},
   "outputs": [],
   "source": [
    "from sklearn import metrics\n",
    "X_train_pred = LR.predict(X_train)\n",
    "X_test_pred = LR.predict(X_test)\n",
    "print('训练集混淆矩阵:')\n",
    "print(metrics.confusion_matrix(y_train, X_train_pred))\n",
    "print('测试集混淆矩阵:')\n",
    "print(metrics.confusion_matrix(y_test, X_test_pred))"
   ]
  },
  {
   "cell_type": "code",
   "execution_count": null,
   "metadata": {},
   "outputs": [],
   "source": [
    "from sklearn.metrics import classification_report\n",
    "print('训练集:')\n",
    "print(classification_report(y_train, X_train_pred))\n",
    "print('测试集:')\n",
    "print(classification_report(y_test, X_test_pred))"
   ]
  },
  {
   "cell_type": "markdown",
   "metadata": {},
   "source": [
    "# 8. 朴素贝叶斯模型"
   ]
  },
  {
   "cell_type": "code",
   "execution_count": null,
   "metadata": {},
   "outputs": [],
   "source": [
    "from sklearn.naive_bayes import GaussianNB\n",
    "from sklearn.model_selection import cross_val_score\n",
    "#构建高斯朴素贝叶斯模型\n",
    "gnb = GaussianNB()\n",
    "gnb.fit(X_train, y_train)\n",
    "print(\"训练集准确率: \", gnb.score(X_train, y_train))\n",
    "print(\"测试集准确率: \", gnb.score(X_test, y_test))\n",
    "X_train_pred =gnb.predict(X_train)\n",
    "X_test_pred = gnb.predict(X_test)\n",
    "print('训练集混淆矩阵:')\n",
    "print(metrics.confusion_matrix(y_train, X_train_pred))\n",
    "print('测试集混淆矩阵:')\n",
    "print(metrics.confusion_matrix(y_test, X_test_pred))\n",
    "print('训练集:')\n",
    "print(classification_report(y_train, X_train_pred))\n",
    "print('测试集:')\n",
    "print(classification_report(y_test, X_test_pred))"
   ]
  },
  {
   "cell_type": "markdown",
   "metadata": {},
   "source": [
    "# 9. 模型评估之ROC曲线"
   ]
  },
  {
   "cell_type": "code",
   "execution_count": null,
   "metadata": {},
   "outputs": [],
   "source": [
    "from sklearn import metrics\n",
    "from sklearn.metrics import roc_curve\n",
    "#将逻辑回归模型和高斯朴素贝叶斯模型预测出的概率均与实际值通过roc_curve比较返回假正率, 真正率, 阈值\n",
    "lr_fpr, lr_tpr, lr_thresholds = roc_curve(y_test, LR.predict_proba(X_test)[:,1])\n",
    "gnb_fpr, gnb_tpr, gnb_thresholds = roc_curve(y_test, gnb.predict_proba(X_test)[:,1])\n",
    "#分别计算这两个模型的auc的值, auc值就是roc曲线下的面积\n",
    "lr_roc_auc = metrics.auc(lr_fpr, lr_tpr)\n",
    "gnb_roc_auc = metrics.auc(gnb_fpr, gnb_tpr)\n",
    "plt.figure(figsize=(8, 5))\n",
    "plt.plot([0, 1], [0, 1],'--', color='r')\n",
    "plt.plot(lr_fpr, lr_tpr, label='LogisticRegression(area = %0.2f)' % lr_roc_auc)\n",
    "plt.plot(gnb_fpr, gnb_tpr, label='GaussianNB(area = %0.2f)' % gnb_roc_auc)\n",
    "plt.xlim([0.0, 1.0])\n",
    "plt.ylim([0.0, 1.0])\n",
    "plt.title('ROC')\n",
    "plt.xlabel('FPR')\n",
    "plt.ylabel('TPR')\n",
    "plt.legend()\n",
    "plt.show()"
   ]
  },
  {
   "cell_type": "markdown",
   "metadata": {},
   "source": [
    "5) 针对当前的员工离职情况，企业该如何对待呢？\n",
    "\n",
    "该公司的员工离职现状:\n",
    "\n",
    "1.当前离职率为23.81%\n",
    "\n",
    "2.离职人员对公司满意度普遍较低\n",
    "\n",
    "3.离职人员的考核成绩相对较高, 说明离职人员多数为优秀人才.\n",
    "\n",
    "4.项目数范围为2~7个, 其中参加7个项目的离职率最高，其次是2个的; 7个的工作能力较强, 在其他企业有更好的发展, 2个的可能是在该公司中工作能力不被认可\n",
    "\n",
    "5.离职人员的平均每月工作时长较长\n",
    "\n",
    "6.离职人员的工作年限集中在3到6年\n",
    "\n",
    "7.5年内未升职的离职率较高\n",
    "\n",
    "8.hr岗位的离职率最高, 目前企业普遍存在\"留人难, 招人难”，这可能是导致该岗位的离职率高的主要原因\n",
    "\n",
    "9.低等薪资水平的离职率最高\n",
    "\n",
    "由于企业培养人才是需要大量的成本, 为了防止人才再次流失, 因此应当注重解决人才的流失问题, 也就是留人, 另外如果在招人时注意某些问题, 也能在一定程度上减少人才流失. 因此, 这里可将对策分为两种, 一种是留人对策, 一种是招人对策.\n",
    "\n",
    "留人对策:\n",
    "\n",
    "1.建立良好的薪酬制度, 不得低于市场水平\n",
    "\n",
    "2.建立明朗的晋升机制\n",
    "\n",
    "3.完善奖惩机制, 能者多劳, 也应多得.\n",
    "\n",
    "4.实现福利多样化, 增加员工对企业的忠诚度\n",
    "\n",
    "5.重视企业文化建设, 树立共同的价值观\n",
    "\n",
    "6.改善办公环境以及营造良好的工作氛围\n",
    "\n",
    "7.鼓励员工自我提升\n",
    "\n",
    "招人对策:\n",
    "\n",
    "1.明确企业招聘需求, 员工的能力应当与岗位需求相匹配\n",
    "\n",
    "2.与应聘者坦诚相见\n",
    "\n",
    "3.招聘期间给予的相关承诺必须实现\n",
    "\n",
    "4.欢迎优秀流失人才回归"
   ]
  },
  {
   "cell_type": "markdown",
   "metadata": {},
   "source": [
    "https://www.cnblogs.com/star-zhao/p/10186417.html"
   ]
  }
 ],
 "metadata": {
  "kernelspec": {
   "display_name": "Python 3",
   "language": "python",
   "name": "python3"
  },
  "language_info": {
   "codemirror_mode": {
    "name": "ipython",
    "version": 3
   },
   "file_extension": ".py",
   "mimetype": "text/x-python",
   "name": "python",
   "nbconvert_exporter": "python",
   "pygments_lexer": "ipython3",
   "version": "3.7.0"
  }
 },
 "nbformat": 4,
 "nbformat_minor": 2
}
